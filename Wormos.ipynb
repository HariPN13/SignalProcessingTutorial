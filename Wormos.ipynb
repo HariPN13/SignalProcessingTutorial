{
  "nbformat": 4,
  "nbformat_minor": 0,
  "metadata": {
    "colab": {
      "name": "Wormos.ipynb",
      "provenance": [],
      "authorship_tag": "ABX9TyOR86DPF9H/DxznN2oCI/2s",
      "include_colab_link": true
    },
    "kernelspec": {
      "name": "python3",
      "display_name": "Python 3"
    }
  },
  "cells": [
    {
      "cell_type": "markdown",
      "metadata": {
        "id": "view-in-github",
        "colab_type": "text"
      },
      "source": [
        "<a href=\"https://colab.research.google.com/github/HariPN13/SignalProcessingTutorial/blob/master/Wormos.ipynb\" target=\"_parent\"><img src=\"https://colab.research.google.com/assets/colab-badge.svg\" alt=\"Open In Colab\"/></a>"
      ]
    },
    {
      "cell_type": "code",
      "metadata": {
        "id": "gqZWvfZokW1o",
        "colab_type": "code",
        "colab": {
          "base_uri": "https://localhost:8080/",
          "height": 34
        },
        "outputId": "3c620637-e3a9-48aa-b3d0-cb8be635f29f"
      },
      "source": [
        "import matplotlib.pyplot as plt\n",
        "from sklearn.multiclass import OneVsRestClassifier\n",
        "from sklearn.svm import SVC\n",
        "from sklearn.metrics import accuracy_score\n",
        "import  numpy as np\n",
        "import pandas as pd\n",
        "from sklearn.decomposition import PCA\n",
        "from sklearn.cluster import KMeans\n",
        "\n",
        "import tensorflow as tf\n",
        "from keras.models import Sequential  \n",
        "from keras.layers import *  "
      ],
      "execution_count": 1,
      "outputs": [
        {
          "output_type": "stream",
          "text": [
            "Using TensorFlow backend.\n"
          ],
          "name": "stderr"
        }
      ]
    },
    {
      "cell_type": "markdown",
      "metadata": {
        "id": "MvNOjtfVlG0o",
        "colab_type": "text"
      },
      "source": [
        "Preprocessing data for classification: Pandas and Numpy"
      ]
    },
    {
      "cell_type": "code",
      "metadata": {
        "id": "3aSvvboJlTtQ",
        "colab_type": "code",
        "colab": {}
      },
      "source": [
        "Location = 'https://raw.githubusercontent.com/HariPN13/WormCalcium/master/DataCSV1.csv?token=ALIOWLO7H4435A6FPLWA3PK7A2JCC'\n",
        "df = pd.read_csv(Location)\n",
        "df = df.fillna(0)"
      ],
      "execution_count": 2,
      "outputs": []
    },
    {
      "cell_type": "markdown",
      "metadata": {
        "id": "IKosFuR7TyG6",
        "colab_type": "text"
      },
      "source": [
        "Defining X as the input parameters for the classifier = calcium signal of 68 neurons over the timesteps."
      ]
    },
    {
      "cell_type": "code",
      "metadata": {
        "id": "IMipvsglS7Cv",
        "colab_type": "code",
        "colab": {}
      },
      "source": [
        "X = np.zeros((398,69))\n",
        "for i in range(1,69):\n",
        "  Xi = np.array(df['Neuron ' + str(i)])\n",
        "  X[:,i] = Xi\n",
        "\n"
      ],
      "execution_count": 3,
      "outputs": []
    },
    {
      "cell_type": "markdown",
      "metadata": {
        "id": "ivhne_x0pGLY",
        "colab_type": "text"
      },
      "source": [
        "Choosing 320 samples as training space."
      ]
    },
    {
      "cell_type": "code",
      "metadata": {
        "id": "s_RdFt5xpNdP",
        "colab_type": "code",
        "colab": {}
      },
      "source": [
        "X_train = X[0:150,:]\n",
        "X_test = X[150:398,:]"
      ],
      "execution_count": 4,
      "outputs": []
    },
    {
      "cell_type": "markdown",
      "metadata": {
        "id": "sfZUfY6QpWuf",
        "colab_type": "text"
      },
      "source": [
        "Defining output Y as the behaviour shown by the worm."
      ]
    },
    {
      "cell_type": "code",
      "metadata": {
        "id": "uctzvLuvp8Xz",
        "colab_type": "code",
        "colab": {}
      },
      "source": [
        "Y = np.zeros((398,1))\n",
        "Y[:,0] = np.array(df['behavior'])"
      ],
      "execution_count": 5,
      "outputs": []
    },
    {
      "cell_type": "markdown",
      "metadata": {
        "id": "ZUKGwLaUteUW",
        "colab_type": "text"
      },
      "source": [
        "Once more selecting 320 samples to train on."
      ]
    },
    {
      "cell_type": "code",
      "metadata": {
        "id": "drwdi1_0tir9",
        "colab_type": "code",
        "colab": {}
      },
      "source": [
        "Y_train = Y[0:150,:]\n",
        "Y_test = Y[150:398,:]"
      ],
      "execution_count": 6,
      "outputs": []
    },
    {
      "cell_type": "markdown",
      "metadata": {
        "id": "S9mTYt33tyvc",
        "colab_type": "text"
      },
      "source": [
        "Running a OneVsRest classifier to classify behaviour."
      ]
    },
    {
      "cell_type": "code",
      "metadata": {
        "id": "GvbfYblJtyX-",
        "colab_type": "code",
        "colab": {
          "base_uri": "https://localhost:8080/",
          "height": 34
        },
        "outputId": "6894c3bd-a7f9-46c2-e677-984cb8ffcb01"
      },
      "source": [
        "clf = OneVsRestClassifier(SVC()).fit(X_train, Y_train)\n",
        "Y_pred = clf.predict(X_test)\n",
        "accuracy_score(Y_test,Y_pred)"
      ],
      "execution_count": 7,
      "outputs": [
        {
          "output_type": "execute_result",
          "data": {
            "text/plain": [
              "0.9193548387096774"
            ]
          },
          "metadata": {
            "tags": []
          },
          "execution_count": 7
        }
      ]
    },
    {
      "cell_type": "markdown",
      "metadata": {
        "id": "7cpJZQZewrOt",
        "colab_type": "text"
      },
      "source": [
        "Moving on to Principal Component Analysis"
      ]
    },
    {
      "cell_type": "code",
      "metadata": {
        "id": "ug2quLwdwu0Z",
        "colab_type": "code",
        "colab": {
          "base_uri": "https://localhost:8080/",
          "height": 523
        },
        "outputId": "efdd54fe-7ae4-4167-fdce-e09e5cbe1250"
      },
      "source": [
        "pca = PCA(n_components=2)\n",
        "principalComponents = pca.fit_transform(X)\n",
        "principalDf = pd.DataFrame(data = principalComponents\n",
        "             , columns = ['principal component 1', 'principal component 2'])\n",
        "finalDf = pd.concat([principalDf, df[['behavior']]], axis = 1)\n",
        "\n",
        "fig = plt.figure(figsize = (8,8))\n",
        "ax = fig.add_subplot(1,1,1) \n",
        "ax.set_xlabel('Principal Component 1', fontsize = 15)\n",
        "ax.set_ylabel('Principal Component 2', fontsize = 15)\n",
        "ax.set_title('2 Component PCA', fontsize = 20)\n",
        "targets = [-1, 1, 2]\n",
        "colors = ['r', 'g', 'b']\n",
        "for target, color in zip(targets,colors):\n",
        "    indicesToKeep = finalDf['behavior'] == target\n",
        "    ax.scatter(finalDf.loc[indicesToKeep, 'principal component 1']\n",
        "               , finalDf.loc[indicesToKeep, 'principal component 2']\n",
        "               , c = color\n",
        "               , s = 50)\n",
        "ax.legend(targets)\n",
        "ax.grid()\n",
        "\n"
      ],
      "execution_count": 8,
      "outputs": [
        {
          "output_type": "display_data",
          "data": {
            "image/png": "[encoded data removed]",
            "text/plain": [
              "<Figure size 576x576 with 1 Axes>"
            ]
          },
          "metadata": {
            "tags": [],
            "needs_background": "light"
          }
        }
      ]
    },
    {
      "cell_type": "markdown",
      "metadata": {
        "id": "vwJk8W1I9yD3",
        "colab_type": "text"
      },
      "source": [
        "K-Means Clustering"
      ]
    },
    {
      "cell_type": "code",
      "metadata": {
        "id": "WRhUeK7wyJyp",
        "colab_type": "code",
        "colab": {
          "base_uri": "https://localhost:8080/",
          "height": 282
        },
        "outputId": "a95deaa5-5dfe-447b-8c7a-eeadd01ea35f"
      },
      "source": [
        "yk_pred = KMeans(n_clusters=3).fit_predict(X)\n",
        "plt.scatter(finalDf['principal component 1'],finalDf['principal component 2'], c=yk_pred)"
      ],
      "execution_count": 9,
      "outputs": [
        {
          "output_type": "execute_result",
          "data": {
            "text/plain": [
              "<matplotlib.collections.PathCollection at 0x7f7a802ba3c8>"
            ]
          },
          "metadata": {
            "tags": []
          },
          "execution_count": 9
        },
        {
          "output_type": "display_data",
          "data": {
            "image/png": "[encoded data removed]",
            "text/plain": [
              "<Figure size 432x288 with 1 Axes>"
            ]
          },
          "metadata": {
            "tags": [],
            "needs_background": "light"
          }
        }
      ]
    },
    {
      "cell_type": "markdown",
      "metadata": {
        "id": "MGk_I-PyX7z_",
        "colab_type": "text"
      },
      "source": [
        ""
      ]
    },
    {
      "cell_type": "code",
      "metadata": {
        "id": "Ve5-HU1EYCkf",
        "colab_type": "code",
        "colab": {}
      },
      "source": [
        "pca80 = PCA(0.8)\n",
        "Xn = pca80.fit_transform(X)\n",
        "\n",
        "#j = no. of samples in training\n",
        "j = 320\n",
        "\n",
        "Xn_train = Xn[0:j,:]\n",
        "Xn_test = Xn[j:,:]\n",
        "\n",
        "Yn_train = Y[0:j,:]\n",
        "Yn_test = Y[j:,:]\n",
        "train_labels = np.where(Yn_train==-1, 0, Yn_train)\n",
        "test_labels = np.where(Yn_test==-1, 0, Yn_test)\n"
      ],
      "execution_count": 19,
      "outputs": []
    },
    {
      "cell_type": "code",
      "metadata": {
        "id": "A0iric6CeICV",
        "colab_type": "code",
        "colab": {
          "base_uri": "https://localhost:8080/",
          "height": 612
        },
        "outputId": "c3b8e61b-1aa9-4145-e044-4c4b779d63a6"
      },
      "source": [
        "model = Sequential()    \n",
        "model.add(Dense(units=1,input_shape=(7,)))\n",
        "model.add(Activation('softmax'))\n",
        "\n",
        "#further layers\n",
        "model.add(Dense(units=3)) #output layer   \n",
        "model.summary()\n",
        "\n",
        "model.compile(optimizer='adam',\n",
        "              loss=tf.keras.losses.SparseCategoricalCrossentropy(from_logits=True),\n",
        "              metrics=['accuracy'])\n",
        "\n",
        "model.fit(Xn_train, train_labels, epochs=10)"
      ],
      "execution_count": 20,
      "outputs": [
        {
          "output_type": "stream",
          "text": [
            "Model: \"sequential_4\"\n",
            "_________________________________________________________________\n",
            "Layer (type)                 Output Shape              Param #   \n",
            "=================================================================\n",
            "dense_7 (Dense)              (None, 1)                 8         \n",
            "_________________________________________________________________\n",
            "activation_4 (Activation)    (None, 1)                 0         \n",
            "_________________________________________________________________\n",
            "dense_8 (Dense)              (None, 3)                 6         \n",
            "=================================================================\n",
            "Total params: 14\n",
            "Trainable params: 14\n",
            "Non-trainable params: 0\n",
            "_________________________________________________________________\n",
            "Epoch 1/10\n",
            "320/320 [==============================] - 0s 205us/step - loss: 1.4207 - accuracy: 0.0000e+00\n",
            "Epoch 2/10\n",
            "320/320 [==============================] - 0s 42us/step - loss: 1.4028 - accuracy: 0.0000e+00\n",
            "Epoch 3/10\n",
            "320/320 [==============================] - 0s 40us/step - loss: 1.3857 - accuracy: 0.0000e+00\n",
            "Epoch 4/10\n",
            "320/320 [==============================] - 0s 52us/step - loss: 1.3691 - accuracy: 0.0000e+00\n",
            "Epoch 5/10\n",
            "320/320 [==============================] - 0s 42us/step - loss: 1.3523 - accuracy: 0.0000e+00\n",
            "Epoch 6/10\n",
            "320/320 [==============================] - 0s 46us/step - loss: 1.3361 - accuracy: 0.0000e+00\n",
            "Epoch 7/10\n",
            "320/320 [==============================] - 0s 46us/step - loss: 1.3198 - accuracy: 0.0000e+00\n",
            "Epoch 8/10\n",
            "320/320 [==============================] - 0s 58us/step - loss: 1.3045 - accuracy: 0.0000e+00\n",
            "Epoch 9/10\n",
            "320/320 [==============================] - 0s 42us/step - loss: 1.2893 - accuracy: 0.0000e+00\n",
            "Epoch 10/10\n",
            "320/320 [==============================] - 0s 50us/step - loss: 1.2745 - accuracy: 0.0000e+00\n"
          ],
          "name": "stdout"
        },
        {
          "output_type": "execute_result",
          "data": {
            "text/plain": [
              "<keras.callbacks.callbacks.History at 0x7f7a78837cf8>"
            ]
          },
          "metadata": {
            "tags": []
          },
          "execution_count": 20
        }
      ]
    },
    {
      "cell_type": "markdown",
      "metadata": {
        "id": "aUkpm1WBkBBl",
        "colab_type": "text"
      },
      "source": [
        "Testing"
      ]
    },
    {
      "cell_type": "code",
      "metadata": {
        "id": "_WscijQNkCID",
        "colab_type": "code",
        "colab": {
          "base_uri": "https://localhost:8080/",
          "height": 51
        },
        "outputId": "c5a27de0-cb98-4123-f298-62c5c66c5f59"
      },
      "source": [
        "test_loss, test_acc = model.evaluate(Xn_test,  test_labels, verbose=2)\n",
        "\n",
        "print('\\nTest accuracy:', test_acc)"
      ],
      "execution_count": 21,
      "outputs": [
        {
          "output_type": "stream",
          "text": [
            "\n",
            "Test accuracy: 0.0\n"
          ],
          "name": "stdout"
        }
      ]
    },
    {
      "cell_type": "markdown",
      "metadata": {
        "id": "oE_hZitjphBZ",
        "colab_type": "text"
      },
      "source": [
        "Prediction"
      ]
    },
    {
      "cell_type": "code",
      "metadata": {
        "id": "G4K8v2Dvpiko",
        "colab_type": "code",
        "colab": {}
      },
      "source": [
        ""
      ],
      "execution_count": null,
      "outputs": []
    }
  ]
}