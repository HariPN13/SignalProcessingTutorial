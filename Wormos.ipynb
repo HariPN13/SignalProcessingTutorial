{
  "nbformat": 4,
  "nbformat_minor": 0,
  "metadata": {
    "colab": {
      "name": "Wormos.ipynb",
      "provenance": [],
      "authorship_tag": "ABX9TyMTNXUGewmuBDJnivyneR0p",
      "include_colab_link": true
    },
    "kernelspec": {
      "name": "python3",
      "display_name": "Python 3"
    }
  },
  "cells": [
    {
      "cell_type": "markdown",
      "metadata": {
        "id": "view-in-github",
        "colab_type": "text"
      },
      "source": [
        "<a href=\"https://colab.research.google.com/github/HariPN13/SignalProcessingTutorial/blob/master/Wormos.ipynb\" target=\"_parent\"><img src=\"https://colab.research.google.com/assets/colab-badge.svg\" alt=\"Open In Colab\"/></a>"
      ]
    },
    {
      "cell_type": "code",
      "metadata": {
        "id": "gqZWvfZokW1o",
        "colab_type": "code",
        "colab": {}
      },
      "source": [
        "import matplotlib.pyplot as plt\n",
        "from sklearn.multiclass import OneVsRestClassifier\n",
        "from sklearn.svm import SVC\n",
        "from sklearn.metrics import accuracy_score\n",
        "import  numpy as np\n",
        "import pandas as pd\n",
        "from sklearn.decomposition import PCA\n",
        "from sklearn.cluster import KMeans\n",
        "from sklearn.model_selection import train_test_split\n",
        "\n",
        "import tensorflow as tf\n",
        "from keras.models import Sequential  \n",
        "from keras.layers import *  \n",
        "from keras.wrappers.scikit_learn import KerasClassifier\n",
        "from keras.utils import np_utils\n",
        "from keras.utils import to_categorical"
      ],
      "execution_count": 59,
      "outputs": []
    },
    {
      "cell_type": "markdown",
      "metadata": {
        "id": "MvNOjtfVlG0o",
        "colab_type": "text"
      },
      "source": [
        "Preprocessing data for classification: Pandas and Numpy"
      ]
    },
    {
      "cell_type": "code",
      "metadata": {
        "id": "3aSvvboJlTtQ",
        "colab_type": "code",
        "colab": {}
      },
      "source": [
        "Location = 'https://raw.githubusercontent.com/HariPN13/WormCalcium/master/DataCSV1.csv?token=ALIOWLO7H4435A6FPLWA3PK7A2JCC'\n",
        "df = pd.read_csv(Location)\n",
        "df = df.fillna(0)"
      ],
      "execution_count": 2,
      "outputs": []
    },
    {
      "cell_type": "markdown",
      "metadata": {
        "id": "IKosFuR7TyG6",
        "colab_type": "text"
      },
      "source": [
        "Defining X as the input parameters for the classifier = calcium signal of 68 neurons over the timesteps."
      ]
    },
    {
      "cell_type": "code",
      "metadata": {
        "id": "IMipvsglS7Cv",
        "colab_type": "code",
        "colab": {}
      },
      "source": [
        "X = np.zeros((398,69))\n",
        "for i in range(1,69):\n",
        "  Xi = np.array(df['Neuron ' + str(i)])\n",
        "  X[:,i] = Xi\n",
        "\n"
      ],
      "execution_count": 3,
      "outputs": []
    },
    {
      "cell_type": "markdown",
      "metadata": {
        "id": "sfZUfY6QpWuf",
        "colab_type": "text"
      },
      "source": [
        "Defining output Y as the behaviour shown by the worm."
      ]
    },
    {
      "cell_type": "code",
      "metadata": {
        "id": "uctzvLuvp8Xz",
        "colab_type": "code",
        "colab": {}
      },
      "source": [
        "Y = np.zeros((398,1))\n",
        "Y[:,0] = np.array(df['behavior'])"
      ],
      "execution_count": 5,
      "outputs": []
    },
    {
      "cell_type": "markdown",
      "metadata": {
        "id": "ZUKGwLaUteUW",
        "colab_type": "text"
      },
      "source": [
        "Splitting training and test samples."
      ]
    },
    {
      "cell_type": "code",
      "metadata": {
        "id": "drwdi1_0tir9",
        "colab_type": "code",
        "colab": {}
      },
      "source": [
        "X_train, X_test, Y_train, Y_test = train_test_split(\n",
        "...     X, Y, test_size=0.20, random_state=42)"
      ],
      "execution_count": 99,
      "outputs": []
    },
    {
      "cell_type": "markdown",
      "metadata": {
        "id": "S9mTYt33tyvc",
        "colab_type": "text"
      },
      "source": [
        "Running a OneVsRest classifier to classify behaviour."
      ]
    },
    {
      "cell_type": "code",
      "metadata": {
        "id": "GvbfYblJtyX-",
        "colab_type": "code",
        "colab": {
          "base_uri": "https://localhost:8080/",
          "height": 34
        },
        "outputId": "ac8c733e-da41-4f8d-eb89-1952fb944940"
      },
      "source": [
        "clf = OneVsRestClassifier(SVC()).fit(X_train, Y_train)\n",
        "Y_pred = clf.predict(X_test)\n",
        "accuracy_score(Y_test,Y_pred)"
      ],
      "execution_count": 100,
      "outputs": [
        {
          "output_type": "execute_result",
          "data": {
            "text/plain": [
              "0.925"
            ]
          },
          "metadata": {
            "tags": []
          },
          "execution_count": 100
        }
      ]
    },
    {
      "cell_type": "markdown",
      "metadata": {
        "id": "7cpJZQZewrOt",
        "colab_type": "text"
      },
      "source": [
        "Moving on to Principal Component Analysis"
      ]
    },
    {
      "cell_type": "code",
      "metadata": {
        "id": "ug2quLwdwu0Z",
        "colab_type": "code",
        "colab": {
          "base_uri": "https://localhost:8080/",
          "height": 523
        },
        "outputId": "efdd54fe-7ae4-4167-fdce-e09e5cbe1250"
      },
      "source": [
        "pca = PCA(n_components=2)\n",
        "principalComponents = pca.fit_transform(X)\n",
        "principalDf = pd.DataFrame(data = principalComponents\n",
        "             , columns = ['principal component 1', 'principal component 2'])\n",
        "finalDf = pd.concat([principalDf, df[['behavior']]], axis = 1)\n",
        "\n",
        "fig = plt.figure(figsize = (8,8))\n",
        "ax = fig.add_subplot(1,1,1) \n",
        "ax.set_xlabel('Principal Component 1', fontsize = 15)\n",
        "ax.set_ylabel('Principal Component 2', fontsize = 15)\n",
        "ax.set_title('2 Component PCA', fontsize = 20)\n",
        "targets = [-1, 1, 2]\n",
        "colors = ['r', 'g', 'b']\n",
        "for target, color in zip(targets,colors):\n",
        "    indicesToKeep = finalDf['behavior'] == target\n",
        "    ax.scatter(finalDf.loc[indicesToKeep, 'principal component 1']\n",
        "               , finalDf.loc[indicesToKeep, 'principal component 2']\n",
        "               , c = color\n",
        "               , s = 50)\n",
        "ax.legend(targets)\n",
        "ax.grid()\n",
        "\n"
      ],
      "execution_count": 8,
      "outputs": [
        {
          "output_type": "display_data",
          "data": {
            "image/png": "[encoded data removed]",
            "text/plain": [
              "<Figure size 576x576 with 1 Axes>"
            ]
          },
          "metadata": {
            "tags": [],
            "needs_background": "light"
          }
        }
      ]
    },
    {
      "cell_type": "markdown",
      "metadata": {
        "id": "vwJk8W1I9yD3",
        "colab_type": "text"
      },
      "source": [
        "K-Means Clustering, plotted against the two principle components."
      ]
    },
    {
      "cell_type": "code",
      "metadata": {
        "id": "WRhUeK7wyJyp",
        "colab_type": "code",
        "colab": {
          "base_uri": "https://localhost:8080/",
          "height": 282
        },
        "outputId": "e798314e-790b-48b7-d4dc-67376a887a09"
      },
      "source": [
        "yk_pred = KMeans(n_clusters=3).fit_predict(X)\n",
        "plt.scatter(finalDf['principal component 1'],finalDf['principal component 2'], c=yk_pred)"
      ],
      "execution_count": 25,
      "outputs": [
        {
          "output_type": "execute_result",
          "data": {
            "text/plain": [
              "<matplotlib.collections.PathCollection at 0x7f7a78650eb8>"
            ]
          },
          "metadata": {
            "tags": []
          },
          "execution_count": 25
        },
        {
          "output_type": "display_data",
          "data": {
            "image/png": "[encoded data removed]",
            "text/plain": [
              "<Figure size 432x288 with 1 Axes>"
            ]
          },
          "metadata": {
            "tags": [],
            "needs_background": "light"
          }
        }
      ]
    },
    {
      "cell_type": "markdown",
      "metadata": {
        "id": "VXqlFwiFOAGV",
        "colab_type": "text"
      },
      "source": [
        "Testing accuracy of K-means clustering of all 68 input neurons. "
      ]
    },
    {
      "cell_type": "code",
      "metadata": {
        "id": "I9AFHwXKNu09",
        "colab_type": "code",
        "colab": {
          "base_uri": "https://localhost:8080/",
          "height": 34
        },
        "outputId": "de9a9a11-392d-461a-9b3a-45933ab0c1aa"
      },
      "source": [
        "accuracy_score(yk_pred, Y)"
      ],
      "execution_count": 128,
      "outputs": [
        {
          "output_type": "execute_result",
          "data": {
            "text/plain": [
              "0.08793969849246232"
            ]
          },
          "metadata": {
            "tags": []
          },
          "execution_count": 128
        }
      ]
    },
    {
      "cell_type": "markdown",
      "metadata": {
        "id": "MGk_I-PyX7z_",
        "colab_type": "text"
      },
      "source": [
        "Identifying the number of Principal Components that account for 80% of the output variance, to reduce dimensionality for further analysis and classification."
      ]
    },
    {
      "cell_type": "code",
      "metadata": {
        "id": "Ve5-HU1EYCkf",
        "colab_type": "code",
        "colab": {}
      },
      "source": [
        "pca80 = PCA(0.8)\n",
        "Xn = pca80.fit_transform(X)\n",
        "\n",
        "Xn_train, Xn_test, Yn_train, Yn_test = train_test_split(Xn, Y, test_size=0.30, random_state=42)\n",
        "\n",
        "\n",
        "Yn_train = to_categorical(Yn_train)\n"
      ],
      "execution_count": 94,
      "outputs": []
    },
    {
      "cell_type": "markdown",
      "metadata": {
        "id": "Voh0fhN5Ge6e",
        "colab_type": "text"
      },
      "source": [
        "Running a KMeans Clustering on this PCA"
      ]
    },
    {
      "cell_type": "code",
      "metadata": {
        "id": "FU5jILRZGh2b",
        "colab_type": "code",
        "colab": {
          "base_uri": "https://localhost:8080/",
          "height": 34
        },
        "outputId": "4d068463-c1a8-494e-9afe-cf5660705543"
      },
      "source": [
        "ykn_pred = KMeans(n_clusters=3).fit_predict(Xn)\n",
        "accuracy_score(ykn_pred, Y)\n",
        "\n"
      ],
      "execution_count": 102,
      "outputs": [
        {
          "output_type": "execute_result",
          "data": {
            "text/plain": [
              "0.5804020100502513"
            ]
          },
          "metadata": {
            "tags": []
          },
          "execution_count": 102
        }
      ]
    },
    {
      "cell_type": "markdown",
      "metadata": {
        "id": "d2TirKq1GiMj",
        "colab_type": "text"
      },
      "source": [
        "Setting up a neural network to classify the data.\n",
        "\n",
        "\n",
        "---\n",
        "\n",
        "\n",
        "Number of hidden layers: 28, \n",
        "Number of Epochs: 40\n",
        "\n",
        "\n",
        "---\n",
        "\n",
        "ReLu activation for inputs, softmax for hidden layer."
      ]
    },
    {
      "cell_type": "code",
      "metadata": {
        "id": "A0iric6CeICV",
        "colab_type": "code",
        "colab": {
          "base_uri": "https://localhost:8080/",
          "height": 1598
        },
        "outputId": "a82b8d73-e353-4e06-fa0a-62e2adbf5843"
      },
      "source": [
        "#def mymodel():\n",
        "\t#model = Sequential()\n",
        "\t#model.add(Dense(14, input_dim=7, activation='relu'))\n",
        "\t#model.add(Dense(3, activation='softmax'))\n",
        "\t#model.compile(loss='categorical_crossentropy', optimizer='adam', metrics=['accuracy'])\n",
        "\t#return model\n",
        " \n",
        "#estimator = KerasClassifier(build_fn=mymodel, epochs=20, batch_size=5, verbose=0)\n",
        "model = Sequential()\n",
        "model.add(Dense(28, input_shape = (7,) , activation = 'relu'))\n",
        "\n",
        "model.add(Dense(3, activation = 'softmax'))\n",
        "\n",
        "model.summary()\n",
        "model.compile(loss = 'categorical_crossentropy' , optimizer = 'adam' , metrics = ['accuracy'] )\n",
        "\n",
        "predictor = model.fit(Xn_train, Yn_train, epochs = 40, batch_size = 5)\n",
        "predictor"
      ],
      "execution_count": 124,
      "outputs": [
        {
          "output_type": "stream",
          "text": [
            "Model: \"sequential_29\"\n",
            "_________________________________________________________________\n",
            "Layer (type)                 Output Shape              Param #   \n",
            "=================================================================\n",
            "dense_59 (Dense)             (None, 28)                224       \n",
            "_________________________________________________________________\n",
            "dense_60 (Dense)             (None, 3)                 87        \n",
            "=================================================================\n",
            "Total params: 311\n",
            "Trainable params: 311\n",
            "Non-trainable params: 0\n",
            "_________________________________________________________________\n",
            "Epoch 1/40\n",
            "278/278 [==============================] - 0s 413us/step - loss: 1.0401 - accuracy: 0.5036\n",
            "Epoch 2/40\n",
            "278/278 [==============================] - 0s 246us/step - loss: 0.7916 - accuracy: 0.7734\n",
            "Epoch 3/40\n",
            "278/278 [==============================] - 0s 232us/step - loss: 0.6138 - accuracy: 0.8129\n",
            "Epoch 4/40\n",
            "278/278 [==============================] - 0s 236us/step - loss: 0.4884 - accuracy: 0.8381\n",
            "Epoch 5/40\n",
            "278/278 [==============================] - 0s 217us/step - loss: 0.4068 - accuracy: 0.8669\n",
            "Epoch 6/40\n",
            "278/278 [==============================] - 0s 216us/step - loss: 0.3565 - accuracy: 0.8597\n",
            "Epoch 7/40\n",
            "278/278 [==============================] - 0s 208us/step - loss: 0.3249 - accuracy: 0.8669\n",
            "Epoch 8/40\n",
            "278/278 [==============================] - 0s 232us/step - loss: 0.3027 - accuracy: 0.8705\n",
            "Epoch 9/40\n",
            "278/278 [==============================] - 0s 207us/step - loss: 0.2859 - accuracy: 0.8777\n",
            "Epoch 10/40\n",
            "278/278 [==============================] - 0s 221us/step - loss: 0.2739 - accuracy: 0.8741\n",
            "Epoch 11/40\n",
            "278/278 [==============================] - 0s 220us/step - loss: 0.2627 - accuracy: 0.8849\n",
            "Epoch 12/40\n",
            "278/278 [==============================] - 0s 199us/step - loss: 0.2545 - accuracy: 0.8885\n",
            "Epoch 13/40\n",
            "278/278 [==============================] - 0s 205us/step - loss: 0.2467 - accuracy: 0.8957\n",
            "Epoch 14/40\n",
            "278/278 [==============================] - 0s 205us/step - loss: 0.2395 - accuracy: 0.8921\n",
            "Epoch 15/40\n",
            "278/278 [==============================] - 0s 211us/step - loss: 0.2339 - accuracy: 0.8993\n",
            "Epoch 16/40\n",
            "278/278 [==============================] - 0s 215us/step - loss: 0.2296 - accuracy: 0.8957\n",
            "Epoch 17/40\n",
            "278/278 [==============================] - 0s 208us/step - loss: 0.2231 - accuracy: 0.9065\n",
            "Epoch 18/40\n",
            "278/278 [==============================] - 0s 219us/step - loss: 0.2175 - accuracy: 0.9101\n",
            "Epoch 19/40\n",
            "278/278 [==============================] - 0s 227us/step - loss: 0.2127 - accuracy: 0.9137\n",
            "Epoch 20/40\n",
            "278/278 [==============================] - 0s 216us/step - loss: 0.2087 - accuracy: 0.9209\n",
            "Epoch 21/40\n",
            "278/278 [==============================] - 0s 203us/step - loss: 0.2046 - accuracy: 0.9173\n",
            "Epoch 22/40\n",
            "278/278 [==============================] - 0s 219us/step - loss: 0.1996 - accuracy: 0.9209\n",
            "Epoch 23/40\n",
            "278/278 [==============================] - 0s 216us/step - loss: 0.1960 - accuracy: 0.9209\n",
            "Epoch 24/40\n",
            "278/278 [==============================] - 0s 233us/step - loss: 0.1922 - accuracy: 0.9281\n",
            "Epoch 25/40\n",
            "278/278 [==============================] - 0s 207us/step - loss: 0.1881 - accuracy: 0.9317\n",
            "Epoch 26/40\n",
            "278/278 [==============================] - 0s 204us/step - loss: 0.1846 - accuracy: 0.9281\n",
            "Epoch 27/40\n",
            "278/278 [==============================] - 0s 201us/step - loss: 0.1809 - accuracy: 0.9317\n",
            "Epoch 28/40\n",
            "278/278 [==============================] - 0s 258us/step - loss: 0.1773 - accuracy: 0.9317\n",
            "Epoch 29/40\n",
            "278/278 [==============================] - 0s 234us/step - loss: 0.1741 - accuracy: 0.9317\n",
            "Epoch 30/40\n",
            "278/278 [==============================] - 0s 223us/step - loss: 0.1715 - accuracy: 0.9353\n",
            "Epoch 31/40\n",
            "278/278 [==============================] - 0s 244us/step - loss: 0.1679 - accuracy: 0.9353\n",
            "Epoch 32/40\n",
            "278/278 [==============================] - 0s 239us/step - loss: 0.1639 - accuracy: 0.9353\n",
            "Epoch 33/40\n",
            "278/278 [==============================] - 0s 248us/step - loss: 0.1611 - accuracy: 0.9496\n",
            "Epoch 34/40\n",
            "278/278 [==============================] - 0s 256us/step - loss: 0.1594 - accuracy: 0.9424\n",
            "Epoch 35/40\n",
            "278/278 [==============================] - 0s 235us/step - loss: 0.1573 - accuracy: 0.9353\n",
            "Epoch 36/40\n",
            "278/278 [==============================] - 0s 230us/step - loss: 0.1541 - accuracy: 0.9532\n",
            "Epoch 37/40\n",
            "278/278 [==============================] - 0s 211us/step - loss: 0.1524 - accuracy: 0.9496\n",
            "Epoch 38/40\n",
            "278/278 [==============================] - 0s 219us/step - loss: 0.1498 - accuracy: 0.9460\n",
            "Epoch 39/40\n",
            "278/278 [==============================] - 0s 213us/step - loss: 0.1472 - accuracy: 0.9496\n",
            "Epoch 40/40\n",
            "278/278 [==============================] - 0s 237us/step - loss: 0.1438 - accuracy: 0.9496\n"
          ],
          "name": "stdout"
        },
        {
          "output_type": "execute_result",
          "data": {
            "text/plain": [
              "<keras.callbacks.callbacks.History at 0x7f7a77199f28>"
            ]
          },
          "metadata": {
            "tags": []
          },
          "execution_count": 124
        }
      ]
    },
    {
      "cell_type": "markdown",
      "metadata": {
        "id": "4wDqdbCrMFNW",
        "colab_type": "text"
      },
      "source": [
        "Plotting accuracy and loss of model w.r.t number of epochs."
      ]
    },
    {
      "cell_type": "code",
      "metadata": {
        "id": "2rIGkH-mIzK4",
        "colab_type": "code",
        "colab": {
          "base_uri": "https://localhost:8080/",
          "height": 295
        },
        "outputId": "55d48f86-36c8-48bb-fca0-35410c51990b"
      },
      "source": [
        "plt.plot(predictor.history['loss'], data=df, marker='', markerfacecolor='blue', color='skyblue', linewidth=4, label='Loss')\n",
        "plt.plot(predictor.history['accuracy'], data=df, marker='', color='olive', linewidth=4, label='Accuracy')\n",
        "plt.xlabel('Epoch')\n",
        "plt.ylabel('Value')\n",
        "plt.title('Performance of Model')\n",
        "plt.legend()\n",
        "plt.show()"
      ],
      "execution_count": 125,
      "outputs": [
        {
          "output_type": "display_data",
          "data": {
            "image/png": "[encoded data removed]",
            "text/plain": [
              "<Figure size 432x288 with 1 Axes>"
            ]
          },
          "metadata": {
            "tags": [],
            "needs_background": "light"
          }
        }
      ]
    },
    {
      "cell_type": "markdown",
      "metadata": {
        "id": "aUkpm1WBkBBl",
        "colab_type": "text"
      },
      "source": [
        "Testing on designated test data."
      ]
    },
    {
      "cell_type": "code",
      "metadata": {
        "id": "_WscijQNkCID",
        "colab_type": "code",
        "colab": {
          "base_uri": "https://localhost:8080/",
          "height": 34
        },
        "outputId": "015a9695-a29e-412f-db66-1bc9c1155ce8"
      },
      "source": [
        "y_pred = model.predict_classes(Xn_test)\n",
        "\n",
        "accuracy_score(y_pred, Yn_test)"
      ],
      "execution_count": 126,
      "outputs": [
        {
          "output_type": "execute_result",
          "data": {
            "text/plain": [
              "0.7166666666666667"
            ]
          },
          "metadata": {
            "tags": []
          },
          "execution_count": 126
        }
      ]
    },
    {
      "cell_type": "markdown",
      "metadata": {
        "id": "xNzjuCCnNAGB",
        "colab_type": "text"
      },
      "source": [
        "Neural network succesfully trained on 7 Principle Components of calcium signal output in *C. elegans*."
      ]
    }
  ]
}